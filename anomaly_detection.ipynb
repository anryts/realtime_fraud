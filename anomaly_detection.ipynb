{
 "cells": [
  {
   "cell_type": "code",
   "execution_count": 1,
   "metadata": {},
   "outputs": [],
   "source": [
    "from pyspark.sql import SparkSession\n",
    "from pyspark.ml import Pipeline\n",
    "from pyspark.ml.classification import LogisticRegression\n",
    "from pyspark.ml.evaluation import BinaryClassificationEvaluator\n",
    "from pyspark.ml.feature import VectorAssembler, StandardScaler, MinMaxScaler, StringIndexer\n",
    "import pandas as pd\n",
    "import matplotlib.pyplot as plt\n",
    "from pyspark.ml.functions import vector_to_array\n",
    "from pyspark.sql.functions import when, col, expr\n",
    "from sklearn.ensemble import IsolationForest\n",
    "import numpy as np"
   ]
  },
  {
   "cell_type": "code",
   "execution_count": 2,
   "metadata": {},
   "outputs": [
    {
     "name": "stderr",
     "output_type": "stream",
     "text": [
      "Setting default log level to \"WARN\".\n",
      "To adjust logging level use sc.setLogLevel(newLevel). For SparkR, use setLogLevel(newLevel).\n",
      "25/01/01 11:29:22 WARN NativeCodeLoader: Unable to load native-hadoop library for your platform... using builtin-java classes where applicable\n"
     ]
    }
   ],
   "source": [
    "spark = SparkSession.builder \\\n",
    "    .appName(\"course_work_anomay_detection\") \\\n",
    "    .master(\"local[*]\") \\\n",
    "    .config('spark.executor.memory', '20g') \\\n",
    "    .getOrCreate()\n",
    "\n",
    "spark.sparkContext.setLogLevel(\"ERROR\")"
   ]
  },
  {
   "cell_type": "code",
   "execution_count": 13,
   "metadata": {},
   "outputs": [],
   "source": [
    "spark.stop()"
   ]
  },
  {
   "cell_type": "code",
   "execution_count": 3,
   "metadata": {},
   "outputs": [
    {
     "name": "stdout",
     "output_type": "stream",
     "text": [
      "root\n",
      " |-- Time: double (nullable = true)\n",
      " |-- V1: double (nullable = true)\n",
      " |-- V2: double (nullable = true)\n",
      " |-- V3: double (nullable = true)\n",
      " |-- V4: double (nullable = true)\n",
      " |-- V5: double (nullable = true)\n",
      " |-- V6: double (nullable = true)\n",
      " |-- V7: double (nullable = true)\n",
      " |-- V8: double (nullable = true)\n",
      " |-- V9: double (nullable = true)\n",
      " |-- V10: double (nullable = true)\n",
      " |-- V11: double (nullable = true)\n",
      " |-- V12: double (nullable = true)\n",
      " |-- V13: double (nullable = true)\n",
      " |-- V14: double (nullable = true)\n",
      " |-- V15: double (nullable = true)\n",
      " |-- V16: double (nullable = true)\n",
      " |-- V17: double (nullable = true)\n",
      " |-- V18: double (nullable = true)\n",
      " |-- V19: double (nullable = true)\n",
      " |-- V20: double (nullable = true)\n",
      " |-- V21: double (nullable = true)\n",
      " |-- V22: double (nullable = true)\n",
      " |-- V23: double (nullable = true)\n",
      " |-- V24: double (nullable = true)\n",
      " |-- V25: double (nullable = true)\n",
      " |-- V26: double (nullable = true)\n",
      " |-- V27: double (nullable = true)\n",
      " |-- V28: double (nullable = true)\n",
      " |-- Amount: double (nullable = true)\n",
      " |-- Class: integer (nullable = true)\n",
      "\n"
     ]
    },
    {
     "name": "stderr",
     "output_type": "stream",
     "text": [
      "                                                                                \r"
     ]
    }
   ],
   "source": [
    "file_path = \"file:///opt/spark/data/creditcard.csv\"\n",
    "data = spark.read.csv(file_path, header=True, inferSchema=True)\n",
    "\n",
    "data.printSchema()"
   ]
  },
  {
   "cell_type": "code",
   "execution_count": 4,
   "metadata": {},
   "outputs": [
    {
     "name": "stdout",
     "output_type": "stream",
     "text": [
      "576.8760162601626\n",
      "Balanced Fraud transactions: 284563\n",
      "Balanced Non-fraud transactions: 284315\n"
     ]
    }
   ],
   "source": [
    "fraud_df = data.where(col(\"Class\") == 1)\n",
    "fraud_count = fraud_df.where(col(\"Class\") == 1).count()\n",
    "\n",
    "non_fraud_df = data.where(col(\"Class\") == 0)\n",
    "\n",
    "non_fraud_count = non_fraud_df.count()\n",
    "n_samples_to_add = non_fraud_count - fraud_count\n",
    "\n",
    "print(n_samples_to_add/ fraud_count)\n",
    "\n",
    "# Randomly sample the fraud transactions to add duplicates\n",
    "fraud_oversampled_df = fraud_df.sample(withReplacement=True, fraction=n_samples_to_add/fraud_count, seed=3345)\n",
    "# Combine the oversampled fraud data with the non-fraud data\n",
    "balanced_df = non_fraud_df.union(fraud_oversampled_df)\n",
    "\n",
    "# Show the new counts for validation\n",
    "balanced_fraud_count = balanced_df.filter(balanced_df['Class'] == 1).count()\n",
    "balanced_non_fraud_count = balanced_df.filter(balanced_df['Class'] == 0).count()\n",
    "\n",
    "print(f\"Balanced Fraud transactions: {balanced_fraud_count}\")\n",
    "print(f\"Balanced Non-fraud transactions: {balanced_non_fraud_count}\")"
   ]
  },
  {
   "cell_type": "markdown",
   "metadata": {},
   "source": [
    "Використаємо K-means для кластеризації даних. І пошуку аномалій.\n"
   ]
  },
  {
   "cell_type": "code",
   "execution_count": 85,
   "metadata": {},
   "outputs": [
    {
     "name": "stdout",
     "output_type": "stream",
     "text": [
      "['Time', 'V1', 'V2', 'V3', 'V4', 'V5', 'V6', 'V7', 'V8', 'V9', 'V10', 'V11', 'V12', 'V13', 'V14', 'V15', 'V16', 'V17', 'V18', 'V19', 'V20', 'V21', 'V22', 'V23', 'V24', 'V25', 'V26', 'V27', 'V28', 'Amount', 'Class']\n"
     ]
    },
    {
     "name": "stderr",
     "output_type": "stream",
     "text": [
      "                                                                                \r"
     ]
    },
    {
     "name": "stdout",
     "output_type": "stream",
     "text": [
      "+----+------------------+-------------------+----------------+------------------+-------------------+-------------------+-------------------+------------------+------------------+-------------------+------------------+------------------+------------------+------------------+------------------+------------------+------------------+-------------------+------------------+-------------------+--------------------+-------------------+------------------+------------------+------------------+------------------+--------------------+-------------------+------+-----+--------------------+----------+----------------------------+\n",
      "|Time|                V1|                 V2|              V3|                V4|                 V5|                 V6|                 V7|                V8|                V9|                V10|               V11|               V12|               V13|               V14|               V15|               V16|               V17|                V18|               V19|                V20|                 V21|                V22|               V23|               V24|               V25|               V26|                 V27|                V28|Amount|Class|            features|prediction|distance_to_nearest_centroid|\n",
      "+----+------------------+-------------------+----------------+------------------+-------------------+-------------------+-------------------+------------------+------------------+-------------------+------------------+------------------+------------------+------------------+------------------+------------------+------------------+-------------------+------------------+-------------------+--------------------+-------------------+------------------+------------------+------------------+------------------+--------------------+-------------------+------+-----+--------------------+----------+----------------------------+\n",
      "| 0.0|  -1.3598071336738|-0.0727811733098497|2.53634673796914|  1.37815522427443| -0.338320769942518|  0.462387777762292|  0.239598554061257|0.0986979012610507| 0.363786969611213| 0.0907941719789316|-0.551599533260813|-0.617800855762348|-0.991389847235408|-0.311169353699879|  1.46817697209427|-0.470400525259478| 0.207971241929242| 0.0257905801985591| 0.403992960255733|  0.251412098239705|  -0.018306777944153|  0.277837575558899|-0.110473910188767|0.0669280749146731| 0.128539358273528|-0.189114843888824|   0.133558376740387|-0.0210530534538215|149.62|    0|[0.0,-1.359807133...|         1|         3.030373219088845E9|\n",
      "| 0.0|  1.19185711131486|   0.26615071205963|0.16648011335321| 0.448154078460911| 0.0600176492822243|-0.0823608088155687|-0.0788029833323113|0.0851016549148104|-0.255425128109186| -0.166974414004614|  1.61272666105479|  1.06523531137287|  0.48909501589608|-0.143772296441519| 0.635558093258208| 0.463917041022171|-0.114804663102346| -0.183361270123994|-0.145783041325259|-0.0690831352230203|  -0.225775248033138| -0.638671952771851| 0.101288021253234|-0.339846475529127| 0.167170404418143| 0.125894532368176|-0.00898309914322813| 0.0147241691924927|  2.69|    0|[0.0,1.1918571113...|         1|         3.030376886927989E9|\n",
      "| 1.0| -1.35835406159823|  -1.34016307473609|1.77320934263119| 0.379779593034328| -0.503198133318193|   1.80049938079263|  0.791460956450422| 0.247675786588991| -1.51465432260583|  0.207642865216696| 0.624501459424895| 0.066083685268831| 0.717292731410831|-0.165945922763554|  2.34586494901581| -2.89008319444231|  1.10996937869599| -0.121359313195888| -2.26185709530414|  0.524979725224404|   0.247998153469754|  0.771679401917229| 0.909412262347719|-0.689280956490685|-0.327641833735251|-0.139096571514147| -0.0553527940384261|-0.0597518405929204|378.66|    0|[1.0,-1.358354061...|         1|        3.0303435319173956E9|\n",
      "| 1.0|-0.966271711572087| -0.185226008082898|1.79299333957872|-0.863291275036453|-0.0103088796030823|   1.24720316752486|   0.23760893977178| 0.377435874652262| -1.38702406270197|-0.0549519224713749|-0.226487263835401| 0.178228225877303| 0.507756869957169| -0.28792374549456|-0.631418117709045|  -1.0596472454325|-0.684092786345479|   1.96577500349538|  -1.2326219700892| -0.208037781160366|  -0.108300452035545|0.00527359678253453|-0.190320518742841| -1.17557533186321| 0.647376034602038|-0.221928844458407|  0.0627228487293033| 0.0614576285006353| 123.5|    0|[1.0,-0.966271711...|         1|        3.0302606251611886E9|\n",
      "| 2.0| -1.15823309349523|  0.877736754848451|  1.548717846511| 0.403033933955121| -0.407193377311653| 0.0959214624684256|  0.592940745385545|-0.270532677192282| 0.817739308235294|  0.753074431976354|-0.822842877946363|  0.53819555014995|   1.3458515932154| -1.11966983471731| 0.175121130008994|-0.451449182813529|-0.237033239362776|-0.0381947870352842| 0.803486924960175|  0.408542360392758|-0.00943069713232919|   0.79827849458971|-0.137458079619063| 0.141266983824769|-0.206009587619756| 0.502292224181569|   0.219422229513348|  0.215153147499206| 69.99|    0|[2.0,-1.158233093...|         1|        3.0301496589664545E9|\n",
      "+----+------------------+-------------------+----------------+------------------+-------------------+-------------------+-------------------+------------------+------------------+-------------------+------------------+------------------+------------------+------------------+------------------+------------------+------------------+-------------------+------------------+-------------------+--------------------+-------------------+------------------+------------------+------------------+------------------+--------------------+-------------------+------+-----+--------------------+----------+----------------------------+\n",
      "only showing top 5 rows\n",
      "\n"
     ]
    },
    {
     "name": "stderr",
     "output_type": "stream",
     "text": [
      "                                                                                \r"
     ]
    },
    {
     "name": "stdout",
     "output_type": "stream",
     "text": [
      "Threshold: 3033023443.682689\n"
     ]
    },
    {
     "name": "stderr",
     "output_type": "stream",
     "text": [
      "[Stage 36409:========>                                            (2 + 10) / 12]\r"
     ]
    },
    {
     "name": "stdout",
     "output_type": "stream",
     "text": [
      "AUC: 0.4999982413871938\n"
     ]
    },
    {
     "name": "stderr",
     "output_type": "stream",
     "text": [
      "                                                                                \r"
     ]
    }
   ],
   "source": [
    "from pyspark.ml.clustering import KMeans\n",
    "from pyspark.ml.feature import VectorAssembler\n",
    "from pyspark.sql.functions import udf, col, when\n",
    "from pyspark.sql.types import DoubleType\n",
    "\n",
    "# Assemble the features\n",
    "print(balanced_df.columns)\n",
    "assembler = VectorAssembler(inputCols=data.columns[:-1], outputCol=\"features\")\n",
    "assembled_data = assembler.transform(data)\n",
    "\n",
    "# Define a function to calculate distances to centroids\n",
    "def distance_to_centroid(features, centroid):\n",
    "    return float(features.squared_distance(centroid))\n",
    "\n",
    "distance_udf = udf(distance_to_centroid, DoubleType())\n",
    "\n",
    "# Fit a KMeans model\n",
    "kmeans = KMeans(k=2, seed=3345)\n",
    "model = kmeans.fit(assembled_data)\n",
    "\n",
    "# Get the centroids\n",
    "centroids = model.clusterCenters()\n",
    "\n",
    "# Define a function to calculate the distance to the nearest centroid\n",
    "def distance_to_nearest_centroid(features, centroids):\n",
    "    return float(min([features.squared_distance(centroid) for centroid in centroids]))\n",
    "\n",
    "distance_udf = udf(lambda features: distance_to_nearest_centroid(features, centroids), DoubleType())\n",
    "\n",
    "# Calculate the distance to the nearest centroid\n",
    "data_with_distances = model.transform(assembled_data)\n",
    "data_with_distances = data_with_distances.withColumn(\"distance_to_nearest_centroid\", distance_udf(col(\"features\")))\n",
    "data_with_distances.show(5)\n",
    "\n",
    "# Calculate the threshold for anomaly detection\n",
    "threshold = data_with_distances.approxQuantile(\"distance_to_nearest_centroid\", [0.99], 0.01)[0]\n",
    "print(f\"Threshold: {threshold}\")\n",
    "\n",
    "# Flag the records with a distance greater than the threshold\n",
    "data_with_distances = data_with_distances.withColumn(\"predicted_class\",\n",
    "                                                     when(col(\"distance_to_nearest_centroid\") >= threshold, 1.0).otherwise(0.0))\n",
    "\n",
    "# Evaluate the model\n",
    "evaluator = BinaryClassificationEvaluator(labelCol=\"Class\", rawPredictionCol=\"predicted_class\")\n",
    "auc = evaluator.evaluate(data_with_distances)\n",
    "print(f\"AUC: {auc}\")"
   ]
  },
  {
   "cell_type": "code",
   "execution_count": 86,
   "metadata": {},
   "outputs": [
    {
     "name": "stderr",
     "output_type": "stream",
     "text": [
      "                                                                                \r"
     ]
    },
    {
     "name": "stdout",
     "output_type": "stream",
     "text": [
      "+-------+------------------+--------------------+-------------------+------------------+-------------------+-------------------+-------------------+--------------------+--------------------+--------------------+--------------------+------------------+--------------------+--------------------+-------------------+-------------------+--------------------+-------------------+--------------------+--------------------+-------------------+--------------------+-------------------+--------------------+--------------------+-------------------+-------------------+--------------------+--------------------+-----------------+--------------------+----------+----------------------------+--------------------+\n",
      "|summary|              Time|                  V1|                 V2|                V3|                 V4|                 V5|                 V6|                  V7|                  V8|                  V9|                 V10|               V11|                 V12|                 V13|                V14|                V15|                 V16|                V17|                 V18|                 V19|                V20|                 V21|                V22|                 V23|                 V24|                V25|                V26|                 V27|                 V28|           Amount|               Class|prediction|distance_to_nearest_centroid|     predicted_class|\n",
      "+-------+------------------+--------------------+-------------------+------------------+-------------------+-------------------+-------------------+--------------------+--------------------+--------------------+--------------------+------------------+--------------------+--------------------+-------------------+-------------------+--------------------+-------------------+--------------------+--------------------+-------------------+--------------------+-------------------+--------------------+--------------------+-------------------+-------------------+--------------------+--------------------+-----------------+--------------------+----------+----------------------------+--------------------+\n",
      "|  count|            153163|              153163|             153163|            153163|             153163|             153163|             153163|              153163|              153163|              153163|              153163|            153163|              153163|              153163|             153163|             153163|              153163|             153163|              153163|              153163|             153163|              153163|             153163|              153163|              153163|             153163|             153163|              153163|              153163|           153163|              153163|    153163|                      153163|              153163|\n",
      "|   mean| 55048.79190796733|-0.23537891669175376|0.04427365861398783|0.6076085856010542|0.13329209032962627|-0.2401611356778448|0.06960662094991747|-0.10404888656259512|0.052670691672626814|-0.03483089684329...|-0.02964435049466...|0.2095483341781447|-0.03225235765223973|0.028910771631188343|0.05617186310286684|0.18229716691875317|-0.01185768381480...|0.04383290468320579|-0.07095214944349029|-0.02118225237735...|0.03952269598248996|-0.03721360588099...|-0.1097481552117398|-0.02858757352051...|0.011705393095057831|0.11664358483308514|0.02295954792851841|0.001875053874757022|0.002853748479949...|88.65189667217237|0.002154567356345854|       1.0|         5.079791519377463E8|6.528991988926829E-6|\n",
      "| stddev|22537.118752327067|  1.8363355308341391| 1.6207689698101473| 1.325767201600602|  1.350390644491221| 1.3249138398238673|  1.289066674845407|  1.1944533679923566|  1.2380756556924355|  1.1288948686011044|  1.0900561041335388|1.0502337863411582|  1.0997496642245705|  1.0287874483945074| 0.9557835480753837| 0.9457133248103334|  0.8880549710587303|  0.921201258082036|  0.8353275376232071|   0.810780833738998| 0.7228895767224535|  0.7392380247607097| 0.6460187893984876|  0.5844297764874026|  0.5957238320493881| 0.4482036135746619| 0.4908910751690352| 0.39177587702096145| 0.31194641123326255|246.4090676167225| 0.04636743720315851|       0.0|         6.370042509975379E8| 0.00255518922761639|\n",
      "|    min|               0.0|    -56.407509631329|  -72.7157275629303| -33.6809840183525|  -5.51969712328415|  -42.1478983728015|  -26.1605059358433|     -31.76494649021|   -73.2167184552674|   -9.46257260540015|   -22.1870885620007| -4.04989491435061|   -18.6837146333443|   -5.79188120632084|  -19.2143254902614|  -4.15253175950472|   -14.1298545174931|  -25.1627993693248|   -9.49874592104677|   -7.21352743017759|  -22.8385483047643|   -34.8303821448146|   -10.933143697655|   -44.8077352037913|   -2.83662691870341|  -10.2953970749851|  -2.60455055280817|   -22.5656793207827|   -11.7108956394515|              0.0|                   0|         1|          120.59596428771249|                 0.0|\n",
      "|    max|           98063.0|    2.40177718599207|   18.9024528401249|  9.38255843282114|   16.8753440335975|   34.8016658766686|   22.5292984665587|    36.6772679454031|    20.0072083651213|    15.5949946071278|    23.7451361206545|  12.0189131816199|     7.8483920756446|    4.46541317709086|   10.5267660517847|   5.78451388962946|     6.0985294505409|   9.25352625047285|    5.04106918541184|     5.2283417900513|   39.4209042482199|    27.2028391573154|   10.5030900899454|    19.0029418232927|    4.02286589044732|   7.51958867870916|    3.5173456116238|    12.1524011068287|    33.8478078188831|         19656.53|                   1|         1|         3.033023443682689E9|                 1.0|\n",
      "+-------+------------------+--------------------+-------------------+------------------+-------------------+-------------------+-------------------+--------------------+--------------------+--------------------+--------------------+------------------+--------------------+--------------------+-------------------+-------------------+--------------------+-------------------+--------------------+--------------------+-------------------+--------------------+-------------------+--------------------+--------------------+-------------------+-------------------+--------------------+--------------------+-----------------+--------------------+----------+----------------------------+--------------------+\n",
      "\n"
     ]
    },
    {
     "name": "stderr",
     "output_type": "stream",
     "text": [
      "                                                                                \r"
     ]
    },
    {
     "name": "stdout",
     "output_type": "stream",
     "text": [
      "+-------+------------------+-------------------+--------------------+-------------------+--------------------+-------------------+--------------------+-------------------+--------------------+-------------------+-------------------+-------------------+-------------------+--------------------+--------------------+-------------------+--------------------+--------------------+-------------------+--------------------+--------------------+-------------------+-------------------+-------------------+--------------------+--------------------+--------------------+--------------------+--------------------+------------------+--------------------+----------+----------------------------+---------------+\n",
      "|summary|              Time|                 V1|                  V2|                 V3|                  V4|                 V5|                  V6|                 V7|                  V8|                 V9|                V10|                V11|                V12|                 V13|                 V14|                V15|                 V16|                 V17|                V18|                 V19|                 V20|                V21|                V22|                V23|                 V24|                 V25|                 V26|                 V27|                 V28|            Amount|               Class|prediction|distance_to_nearest_centroid|predicted_class|\n",
      "+-------+------------------+-------------------+--------------------+-------------------+--------------------+-------------------+--------------------+-------------------+--------------------+-------------------+-------------------+-------------------+-------------------+--------------------+--------------------+-------------------+--------------------+--------------------+-------------------+--------------------+--------------------+-------------------+-------------------+-------------------+--------------------+--------------------+--------------------+--------------------+--------------------+------------------+--------------------+----------+----------------------------+---------------+\n",
      "|  count|            131644|             131644|              131644|             131644|              131644|             131644|              131644|             131644|              131644|             131644|             131644|             131644|             131644|              131644|              131644|             131644|              131644|              131644|             131644|              131644|              131644|             131644|             131644|             131644|              131644|              131644|              131644|              131644|              131644|            131644|              131644|    131644|                      131644|         131644|\n",
      "|   mean|141079.06770532648|0.27385479791907963|-0.05151078951030233|-0.7069304624321225|-0.15508049308100696|0.27941873555821783|-0.08098476865297125|0.12105709043014931|-0.06128043168434963|0.04052448006144534|0.03449012226015133|-0.2438018558212043|0.03752444361375857|-0.03363662996678456|-0.06535391714338805|-0.2120961151041864|0.013795983304426027|-0.05099798836250746|0.08255024205595111|0.024644779259775512|-0.04598321750148843|0.04329667525714503|0.12768798195660688|0.03326060073473215|-0.01361879859786...|-0.13571056321434816|-0.02671259791084...|-0.00218155690057...|-0.00332023243318...| 87.99793047917046|0.001230591595515...|       0.0|         3.077730842761268E8|            0.0|\n",
      "| stddev| 17541.68428241672|  2.058477352632483|  1.6846867506697922| 1.4140783435819433|  1.4733346140738006| 1.3907072147426083|  1.3764193924742045|   1.27428071923831|   1.138318630024651|  1.060904032239494|  1.086431143487606| 0.9274723975630003| 0.8661686648756907|  0.9537050471774393|  0.9577231460396838| 0.8296639696300431|  0.8621164528265411|  0.7539929758816527| 0.8339181506772336|  0.8171289450335466|  0.8209041883566502| 0.7266091098608379| 0.7896191316070762| 0.6664829090988069|  0.6167142773643708|  0.5656062356231704|  0.4705405656750627| 0.41699405837958353| 0.34997590913578125|254.37012721201324|0.035058331053863134|       0.0|         3.234583313419751E8|            0.0|\n",
      "|    min|           98067.0|  -46.8550472007818|   -50.3832691251379|  -48.3255893623954|   -5.68317119816995|  -113.743306711146|   -20.8696261884133|  -43.5572415712451|   -41.0442609210741|  -13.4340663182301|  -24.5882624372475|  -4.79747346479757|  -12.6863075224956|   -3.88110624948029|   -14.2668362798028|  -4.49894467676621|   -8.88010567222989|   -18.1082610229766|  -7.51186615794432|    -4.3952829851609|    -54.497720494566|  -22.7976039055519|   -7.4171399013551|   -36.666000066027|   -2.79047932289454|   -8.69662677026752|   -2.24162029000295|   -9.89524404755692|   -15.4300839055349|               0.0|                   0|         0|           77.87990850771159|            0.0|\n",
      "|    max|          172792.0|   2.45492999121121|    22.0577289904909|   4.18781059904763|    15.3041839851875|   29.1621720203733|    73.3016255459646|   120.589493945238|    12.7661123549729|   8.69188927058855|   12.4246019746202|   7.86446740028511|   4.29334184454389|    7.12688295859376|    6.89406758192229|   8.87774159774277|    17.3151115176278|    7.29310779512161|   4.24384121345385|    5.59197142733558|    23.6490945681255|   20.0637857993471|   8.36198519168435|   22.5284116897749|    4.58454913689817|    6.07085038407798|    3.41563624349633|    31.6121981061363|    16.1296091387323|          25691.16|                   1|         0|         1.850044884381147E9|            0.0|\n",
      "+-------+------------------+-------------------+--------------------+-------------------+--------------------+-------------------+--------------------+-------------------+--------------------+-------------------+-------------------+-------------------+-------------------+--------------------+--------------------+-------------------+--------------------+--------------------+-------------------+--------------------+--------------------+-------------------+-------------------+-------------------+--------------------+--------------------+--------------------+--------------------+--------------------+------------------+--------------------+----------+----------------------------+---------------+\n",
      "\n"
     ]
    },
    {
     "name": "stderr",
     "output_type": "stream",
     "text": [
      "                                                                                \r"
     ]
    },
    {
     "data": {
      "image/png": "[encoded data removed]",
      "text/plain": [
       "<Figure size 640x480 with 1 Axes>"
      ]
     },
     "metadata": {},
     "output_type": "display_data"
    }
   ],
   "source": [
    "fraud_operations = data_with_distances.filter(data_with_distances['prediction'] == 1)\n",
    "fraud_operations.describe().show()\n",
    "non_fraud_operations = data_with_distances.filter(data_with_distances['prediction'] == 0)\n",
    "non_fraud_operations.describe().show()\n",
    "\n",
    "# Plot the distances to the nearest centroid\n",
    "fraud_distances = fraud_operations.select(\"distance_to_nearest_centroid\").toPandas()\n",
    "non_fraud_distances = non_fraud_operations.select(\"distance_to_nearest_centroid\").toPandas()\n",
    "# Plot the distances to the nearest centroid and use different colors for fraud and non-fraud and diff color for incorrect fraud detection\n",
    "plt.hist(non_fraud_distances, bins=50, color='blue', alpha=0.5, label='Non-fraud')\n",
    "plt.hist(fraud_distances, bins=50, color='red', alpha=0.5, label='Fraud')\n",
    "plt.legend()\n",
    "plt.xlabel(\"Distance to the nearest centroid\")\n",
    "plt.ylabel(\"Frequency\")\n",
    "plt.title(\"Distances to the nearest centroid by class\")\n",
    "plt.show()\n"
   ]
  },
  {
   "cell_type": "markdown",
   "metadata": {},
   "source": [
    "Використання IsoForest для пошуку аномалій."
   ]
  },
  {
   "cell_type": "code",
   "execution_count": null,
   "metadata": {},
   "outputs": [
    {
     "name": "stderr",
     "output_type": "stream",
     "text": [
      "                                                                                \r"
     ]
    },
    {
     "name": "stdout",
     "output_type": "stream",
     "text": [
      "isolation_forest_anomaly\n",
      "0    563582\n",
      "1      5296\n",
      "Name: count, dtype: int64\n"
     ]
    }
   ],
   "source": [
    "features = balanced_df.columns[:-1]\n",
    "labels = data.columns[-1]\n",
    "\n",
    "assembler = VectorAssembler(inputCols=features, outputCol=\"features\")\n",
    "assembled_data = assembler.transform(balanced_df)\n",
    "\n",
    "scaler = StandardScaler(inputCol=\"features\", outputCol=\"scaled_features\")\n",
    "scaler_model = scaler.fit(assembled_data)\n",
    "normalized_features = scaler_model.transform(assembled_data)\n",
    "\n",
    "# Convert to pandas dataframe for Isolation Forest\n",
    "normalized_features_pd = normalized_features.select(\"scaled_features\").toPandas()\n",
    "normalized_features_np = np.array(normalized_features_pd[\"scaled_features\"].tolist())\n",
    "\n",
    "# Using the Isolation Forest algorithm\n",
    "iso_forest = IsolationForest(contamination=0.01, random_state=3345)\n",
    "balanced_df_pd = balanced_df.toPandas()\n",
    "balanced_df_pd['isolation_forest_anomaly'] = iso_forest.fit_predict(normalized_features_np)\n",
    "\n",
    "# Convert predictions to binary: 0 for inliers, 1 for outliers\n",
    "balanced_df_pd['isolation_forest_anomaly'] = balanced_df_pd['isolation_forest_anomaly'].apply(lambda x: 1 if x == -1 else 0)\n",
    "\n",
    "# Evaluate the model\n",
    "print(balanced_df_pd['isolation_forest_anomaly'].value_counts().sort_index())\n",
    "\n",
    "#save the model\n",
    "\n"
   ]
  },
  {
   "cell_type": "markdown",
   "metadata": {},
   "source": [
    "Використання DBSCAN для кластеризації даних. І пошуку аномалій."
   ]
  },
  {
   "cell_type": "code",
   "execution_count": 19,
   "metadata": {},
   "outputs": [
    {
     "name": "stdout",
     "output_type": "stream",
     "text": [
      "dbscan_anomaly\n",
      "0    352133\n",
      "1    216745\n",
      "Name: count, dtype: int64\n"
     ]
    }
   ],
   "source": [
    "from sklearn.cluster import DBSCAN\n",
    "\n",
    "dbscan = DBSCAN(eps=0.5, min_samples=10)\n",
    "dbscan_labels = dbscan.fit_predict(normalized_features_np)\n",
    "\n",
    "# Convert predictions to binary: 0 for inliers, 1 for outliers\n",
    "balanced_df_pd['dbscan_anomaly'] = dbscan_labels\n",
    "balanced_df_pd['dbscan_anomaly'] = balanced_df_pd['dbscan_anomaly'].apply(lambda x: 1 if x == -1 else 0)\n",
    "\n",
    "# Evaluate the model\n",
    "print(balanced_df_pd['dbscan_anomaly'].value_counts().sort_index())"
   ]
  }
 ],
 "metadata": {
  "kernelspec": {
   "display_name": ".venv",
   "language": "python",
   "name": "python3"
  },
  "language_info": {
   "codemirror_mode": {
    "name": "ipython",
    "version": 3
   },
   "file_extension": ".py",
   "mimetype": "text/x-python",
   "name": "python",
   "nbconvert_exporter": "python",
   "pygments_lexer": "ipython3",
   "version": "3.12.7"
  }
 },
 "nbformat": 4,
 "nbformat_minor": 2
}
